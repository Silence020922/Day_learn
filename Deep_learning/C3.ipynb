{
 "cells": [
  {
   "cell_type": "markdown",
   "id": "dc554fca-5f89-4c6c-8401-76881defdfa8",
   "metadata": {},
   "source": [
    "## 命名张量"
   ]
  },
  {
   "cell_type": "code",
   "execution_count": 11,
   "id": "9350df92-b48d-4fd2-8860-e3d61824bf25",
   "metadata": {},
   "outputs": [
    {
     "data": {
      "text/plain": [
       "torch.Size([2, 3, 5, 5])"
      ]
     },
     "execution_count": 11,
     "metadata": {},
     "output_type": "execute_result"
    }
   ],
   "source": [
    "import torch\n",
    "from torchvision import transforms\n",
    "\n",
    "batch_t = torch.randn(2,3,5,5) # B C H W\n",
    "batch_t.shape"
   ]
  },
  {
   "cell_type": "code",
   "execution_count": 4,
   "id": "3cb49795-c99f-4925-928d-d9ce730e4713",
   "metadata": {},
   "outputs": [
    {
     "data": {
      "text/plain": [
       "torch.Size([2, 3, 5, 5])"
      ]
     },
     "execution_count": 4,
     "metadata": {},
     "output_type": "execute_result"
    }
   ],
   "source": [
    "batch_t.shape"
   ]
  },
  {
   "cell_type": "markdown",
   "id": "b58fdc83-22ef-47de-9433-e58b99efacde",
   "metadata": {},
   "source": [
    "```python\n",
    "\"\"\"\n",
    "张量各维度的索引含义在程序中容易混淆，pytorch中提供了为张量维度命名的函数\n",
    "\"\"\"\n",
    "torch.tensor(,names = []) # 传参\n",
    "_tensor.refine_names() # 能够添加名称但不改变现有名称\n",
    "_tensor.rename() # 覆盖或删除(输入None)现有名称\n",
    "```"
   ]
  },
  {
   "cell_type": "code",
   "execution_count": 7,
   "id": "a55761ec-8f70-47b5-a9a4-7e6519dc02a1",
   "metadata": {},
   "outputs": [
    {
     "data": {
      "text/plain": [
       "(torch.Size([2, 3, 5, 5]), (None, 'channels', 'rows', 'columns'))"
      ]
     },
     "execution_count": 7,
     "metadata": {},
     "output_type": "execute_result"
    }
   ],
   "source": [
    "batch_tnamed = batch_t.rename(...,'channels','rows','columns') # ...省略任意数量的维度\n",
    "batch_tnamed.shape,batch_tnamed.names"
   ]
  },
  {
   "cell_type": "markdown",
   "id": "d31c4974-af3b-47fd-9607-c46ef124f887",
   "metadata": {},
   "source": [
    "    接受维度的参数，也接受命名维度"
   ]
  },
  {
   "cell_type": "code",
   "execution_count": 12,
   "id": "34d3d1a9-73b7-4eac-b390-e57429643aae",
   "metadata": {
    "editable": true,
    "slideshow": {
     "slide_type": ""
    },
    "tags": []
   },
   "outputs": [],
   "source": [
    "weight_named = torch.tensor([0.2126,0.7152,0.0722],names = ('channels',))\n",
    "img_t = torch.randn(3,5,5) \n",
    "Img_t = transforms.ToPILImage()(img_t)\n",
    "Img_t.show()"
   ]
  },
  {
   "cell_type": "code",
   "execution_count": 14,
   "id": "b5ae7a4b-b6b4-4e3a-8e19-36ab91efabfb",
   "metadata": {},
   "outputs": [],
   "source": [
    "img_gray = img_t.mean(-3) # 在channel维度上做平均取灰度图像\n",
    "Img_gray = transforms.ToPILImage()(img_gray)\n",
    "Img_gray.show()"
   ]
  },
  {
   "cell_type": "code",
   "execution_count": 15,
   "id": "0da3706f-755c-4b20-8f5d-7091f3e317a1",
   "metadata": {},
   "outputs": [
    {
     "data": {
      "text/plain": [
       "(torch.Size([3, 5, 5]), ('channels', 'rows', 'coloumns'))"
      ]
     },
     "execution_count": 15,
     "metadata": {},
     "output_type": "execute_result"
    }
   ],
   "source": [
    "img_named  = img_t.refine_names(...,'channels','rows','coloumns')\n",
    "img_named.shape,img_named.names"
   ]
  },
  {
   "cell_type": "code",
   "execution_count": 19,
   "id": "e30c431e-fa17-4248-a979-25f4c477160d",
   "metadata": {},
   "outputs": [
    {
     "data": {
      "text/plain": [
       "(torch.Size([3, 1, 1]), ('channels', 'rows', 'coloumns'))"
      ]
     },
     "execution_count": 19,
     "metadata": {},
     "output_type": "execute_result"
    }
   ],
   "source": [
    "weight_aligned = weight_named.align_as(img_named) # 使用align_as()方法返回一个向量，添加缺失维度且将现有维度自动对齐\n",
    "weight_aligned.shape,weight_aligned.names"
   ]
  },
  {
   "cell_type": "code",
   "execution_count": 22,
   "id": "6eecc489-4e62-485c-9f7f-5ef5db4ca2a7",
   "metadata": {},
   "outputs": [
    {
     "data": {
      "text/plain": [
       "(torch.Size([5, 5]), ('rows', 'coloumns'))"
      ]
     },
     "execution_count": 22,
     "metadata": {},
     "output_type": "execute_result"
    }
   ],
   "source": [
    "gray_named = (img_named*weight_aligned).sum('channels') # 使用维度名\n",
    "gray_named.shape,gray_named.names"
   ]
  },
  {
   "cell_type": "markdown",
   "id": "83c2d0bd-5c9c-4e45-80ae-1e25a990be25",
   "metadata": {},
   "source": [
    "## 使用dtype指定数字类型"
   ]
  },
  {
   "cell_type": "markdown",
   "id": "7b50e506-6ad4-490b-84fa-c8612946a896",
   "metadata": {},
   "source": [
    "    神经网络中发生的计算通常是float32精度执行的。这是由于一般，采用更高的精度如64位，并不会提高模型精度，反而需要更多的内存和计算时间。16位半精度浮点数类型在标准CPU中并不存在，而是在现代GPU提供。\n",
    "    如有需求，可切换到半精度，其对精度影响也很小。"
   ]
  },
  {
   "cell_type": "code",
   "execution_count": 24,
   "id": "25877a59-d087-436b-91b4-c8e5b57faed7",
   "metadata": {},
   "outputs": [
    {
     "data": {
      "text/plain": [
       "torch.int16"
      ]
     },
     "execution_count": 24,
     "metadata": {},
     "output_type": "execute_result"
    }
   ],
   "source": [
    "double_points  = torch.ones(10,2,dtype = torch.double)\n",
    "short_points = torch.tensor([[1,2],[3,4]],dtype = torch.short)\n",
    "short_points.dtype"
   ]
  },
  {
   "cell_type": "code",
   "execution_count": 25,
   "id": "f50f3beb-3c68-43c4-9eb2-34ec6f750bd5",
   "metadata": {},
   "outputs": [
    {
     "data": {
      "text/plain": [
       "torch.float64"
      ]
     },
     "execution_count": 25,
     "metadata": {},
     "output_type": "execute_result"
    }
   ],
   "source": [
    "double_points = torch.ones(10,2).double() # 其他方式\n",
    "double_points.dtype"
   ]
  },
  {
   "cell_type": "code",
   "execution_count": 26,
   "id": "5a9defb8-b34e-482c-b47f-22fc16d2d44e",
   "metadata": {},
   "outputs": [
    {
     "data": {
      "text/plain": [
       "torch.float64"
      ]
     },
     "execution_count": 26,
     "metadata": {},
     "output_type": "execute_result"
    }
   ],
   "source": [
    "double_points = torch.zeros(2,2).to(torch.double) # to() 方法会检测转换是否必要\n",
    "double_points.dtype"
   ]
  },
  {
   "cell_type": "markdown",
   "id": "fbff6661-a0e7-4f00-9190-9a1ffaec746d",
   "metadata": {},
   "source": [
    "## transpose() 函数"
   ]
  },
  {
   "cell_type": "code",
   "execution_count": 29,
   "id": "8a70fac2-1257-4716-8c54-8b6ad1a9037a",
   "metadata": {},
   "outputs": [
    {
     "data": {
      "text/plain": [
       "(torch.Size([3, 2]), torch.Size([3, 2]))"
      ]
     },
     "execution_count": 29,
     "metadata": {},
     "output_type": "execute_result"
    }
   ],
   "source": [
    "tmp = torch.ones(2,3)\n",
    "tmp_t = torch.transpose(tmp,0,1)\n",
    "tmp_t1 = tmp.transpose(0,1)\n",
    "tmp_t.shape,tmp_t1.shape"
   ]
  },
  {
   "cell_type": "markdown",
   "id": "55e2eb77-6687-4f9f-9219-78705fd9ff61",
   "metadata": {},
   "source": [
    "## 张量的存储视图"
   ]
  },
  {
   "cell_type": "code",
   "execution_count": 53,
   "id": "d2c40413-879a-4536-b0b5-22595941e6d8",
   "metadata": {},
   "outputs": [
    {
     "data": {
      "text/plain": [
       " 4.0\n",
       " 1.0\n",
       " 5.0\n",
       " 3.0\n",
       " 2.0\n",
       " 1.0\n",
       "[torch.storage.TypedStorage(dtype=torch.float32, device=cpu) of size 6]"
      ]
     },
     "execution_count": 53,
     "metadata": {},
     "output_type": "execute_result"
    }
   ],
   "source": [
    "points = torch.tensor([[4.0,1.0],[5.0,3.0],[2.0,1.0]])\n",
    "points.storage() # 访问给定张量的存储区"
   ]
  },
  {
   "cell_type": "code",
   "execution_count": 32,
   "id": "4a867e3f-c876-4ea8-a4c2-55843148573a",
   "metadata": {},
   "outputs": [
    {
     "data": {
      "text/plain": [
       "4.0"
      ]
     },
     "execution_count": 32,
     "metadata": {},
     "output_type": "execute_result"
    }
   ],
   "source": [
    "points_storage = points.storage()\n",
    "points_storage[0] # 通过存储区访问张量"
   ]
  },
  {
   "cell_type": "markdown",
   "id": "ee907114-2cd4-4269-b852-05fd1d5be255",
   "metadata": {},
   "source": [
    "    修改张量中的存储值有很多方法，值得注意的是，是否对输入张量对象进行更改根据下划线判断"
   ]
  },
  {
   "cell_type": "code",
   "execution_count": 34,
   "id": "8560d241-9517-4ace-9735-d2f184a10bf7",
   "metadata": {},
   "outputs": [
    {
     "data": {
      "text/plain": [
       "tensor([[0., 0., 0.],\n",
       "        [0., 0., 0.]])"
      ]
     },
     "execution_count": 34,
     "metadata": {},
     "output_type": "execute_result"
    }
   ],
   "source": [
    "a = torch.ones(2,3)\n",
    "a.zero_()\n",
    "a"
   ]
  },
  {
   "cell_type": "markdown",
   "id": "56890c68-0491-4d72-bdd9-e0d9d9c12cdf",
   "metadata": {},
   "source": [
    "## 张量元数据：大小、偏移量、步长"
   ]
  },
  {
   "cell_type": "code",
   "execution_count": 36,
   "id": "2f79774b-a82a-4f35-a7ae-a906a82c883f",
   "metadata": {},
   "outputs": [
    {
     "data": {
      "text/plain": [
       "(2, 1)"
      ]
     },
     "execution_count": 36,
     "metadata": {},
     "output_type": "execute_result"
    }
   ],
   "source": [
    "points = torch.tensor([[4.0,1.0],[5.0,3.0],[2.0,1.0]])\n",
    "points.stride() # stride[0]表示跳行所需的步长，stride[1]存储列步长"
   ]
  },
  {
   "cell_type": "markdown",
   "id": "0d13dad4-f38e-4cc5-bf4d-e6696a88c8de",
   "metadata": {},
   "source": [
    "### 无复制转置"
   ]
  },
  {
   "cell_type": "code",
   "execution_count": 43,
   "id": "e3ddb637-66e0-41c0-a313-de68156ef0c6",
   "metadata": {},
   "outputs": [
    {
     "data": {
      "text/plain": [
       "tensor([[4., 1.],\n",
       "        [5., 3.],\n",
       "        [2., 1.]])"
      ]
     },
     "execution_count": 43,
     "metadata": {},
     "output_type": "execute_result"
    }
   ],
   "source": [
    "\"\"\"\n",
    "使用.t()实现无复制转置\n",
    "\"\"\"\n",
    "points = torch.tensor([[4.0,1.0],[5.0,3.0],[2.0,1.0]])\n",
    "points"
   ]
  },
  {
   "cell_type": "code",
   "execution_count": 44,
   "id": "f5f43129-86dc-401a-b65f-803903ab3846",
   "metadata": {},
   "outputs": [
    {
     "data": {
      "text/plain": [
       "tensor([[4., 5., 2.],\n",
       "        [1., 3., 1.]])"
      ]
     },
     "execution_count": 44,
     "metadata": {},
     "output_type": "execute_result"
    }
   ],
   "source": [
    "points_t = points.t()\n",
    "points_t\n"
   ]
  },
  {
   "cell_type": "code",
   "execution_count": 45,
   "id": "8fd09471-f976-4d79-8a50-1680f4de5cc6",
   "metadata": {},
   "outputs": [
    {
     "data": {
      "text/plain": [
       "True"
      ]
     },
     "execution_count": 45,
     "metadata": {},
     "output_type": "execute_result"
    }
   ],
   "source": [
    "id(points.storage()) == id(points_t.storage()) # 检测相同存储区内\n"
   ]
  },
  {
   "cell_type": "markdown",
   "id": "7f51a744-30be-4156-a667-f08cbb652dcc",
   "metadata": {},
   "source": [
    "### 高维转置"
   ]
  },
  {
   "cell_type": "code",
   "execution_count": 47,
   "id": "14892749-82c6-419c-9fc5-e5c408cbac77",
   "metadata": {},
   "outputs": [
    {
     "data": {
      "text/plain": [
       "True"
      ]
     },
     "execution_count": 47,
     "metadata": {},
     "output_type": "execute_result"
    }
   ],
   "source": [
    "a = torch.ones(3,4,5)\n",
    "a_t = a.transpose(0,2) # 指定需要转置的维度\n",
    "id(a.storage()) == id(a_t.storage())"
   ]
  },
  {
   "cell_type": "code",
   "execution_count": 48,
   "id": "afb2457d-b226-4bf2-8d15-9f7283f036ae",
   "metadata": {},
   "outputs": [
    {
     "data": {
      "text/plain": [
       "((20, 5, 1), (1, 5, 20))"
      ]
     },
     "execution_count": 48,
     "metadata": {},
     "output_type": "execute_result"
    }
   ],
   "source": [
    "a.stride(),a_t.stride()"
   ]
  },
  {
   "cell_type": "markdown",
   "id": "5871ed02-fbb5-4c26-b316-d82ff48750d2",
   "metadata": {},
   "source": [
    "###  连续张量"
   ]
  },
  {
   "cell_type": "markdown",
   "id": "505c1ae5-f24a-4e74-aeb2-ebe6a5ef2162",
   "metadata": {},
   "source": [
    "使用`contiguous()`方法可以查看并排列为连续张量，原理为更改存储及步长，不更改张量内容"
   ]
  },
  {
   "cell_type": "code",
   "execution_count": 49,
   "id": "e3ca4e0f-b83e-440d-98ea-4f049ce78e35",
   "metadata": {},
   "outputs": [
    {
     "data": {
      "text/plain": [
       "(True, False)"
      ]
     },
     "execution_count": 49,
     "metadata": {},
     "output_type": "execute_result"
    }
   ],
   "source": [
    "points.is_contiguous(),points_t.is_contiguous()"
   ]
  },
  {
   "cell_type": "code",
   "execution_count": 50,
   "id": "9a72c4ee-817a-4c10-852b-616bf6fde2c2",
   "metadata": {},
   "outputs": [
    {
     "data": {
      "text/plain": [
       " 4.0\n",
       " 1.0\n",
       " 5.0\n",
       " 3.0\n",
       " 2.0\n",
       " 1.0\n",
       "[torch.storage.TypedStorage(dtype=torch.float32, device=cpu) of size 6]"
      ]
     },
     "execution_count": 50,
     "metadata": {},
     "output_type": "execute_result"
    }
   ],
   "source": [
    "points_t.storage()"
   ]
  },
  {
   "cell_type": "code",
   "execution_count": 51,
   "id": "c308ef5c-50fa-4332-a681-edde3ff0f42a",
   "metadata": {},
   "outputs": [
    {
     "data": {
      "text/plain": [
       " 4.0\n",
       " 5.0\n",
       " 2.0\n",
       " 1.0\n",
       " 3.0\n",
       " 1.0\n",
       "[torch.storage.TypedStorage(dtype=torch.float32, device=cpu) of size 6]"
      ]
     },
     "execution_count": 51,
     "metadata": {},
     "output_type": "execute_result"
    }
   ],
   "source": [
    "points_t.contiguous().storage()"
   ]
  },
  {
   "cell_type": "markdown",
   "id": "8129cd4b-6615-419a-894f-4d10dee93d85",
   "metadata": {},
   "source": [
    "## 将张量存储到GPU"
   ]
  },
  {
   "cell_type": "markdown",
   "id": "5a0ebf80-5360-4cf7-a621-5fbe3c538cd7",
   "metadata": {},
   "source": [
    "采用两种方法：\n",
    "- 创建时声明：`points_gpu = torch.tensor(,device = 'cuda')`\n",
    "- `points_gpu = points.to(device = 'cuda')`"
   ]
  },
  {
   "cell_type": "markdown",
   "id": "c0d89fca-15ad-4151-8f03-659b282edde4",
   "metadata": {},
   "source": [
    "## Tensor 与 Numpy 互操作性"
   ]
  },
  {
   "cell_type": "markdown",
   "id": "b0f32ab2-75c0-4701-9f3d-fa5616330ee7",
   "metadata": {},
   "source": [
    "### 从张量得到Numpy数组"
   ]
  },
  {
   "cell_type": "code",
   "execution_count": 54,
   "id": "e6259e79-2fbe-4817-9c40-39850a7a9d25",
   "metadata": {},
   "outputs": [
    {
     "data": {
      "text/plain": [
       "array([[1., 1., 1., 1.],\n",
       "       [1., 1., 1., 1.],\n",
       "       [1., 1., 1., 1.]], dtype=float32)"
      ]
     },
     "execution_count": 54,
     "metadata": {},
     "output_type": "execute_result"
    }
   ],
   "source": [
    "points = torch.ones(3,4)\n",
    "points_np = points.numpy()\n",
    "points_np"
   ]
  },
  {
   "cell_type": "markdown",
   "id": "d315326b-dc0d-4061-8ca3-b23b3dbf6f3b",
   "metadata": {},
   "source": [
    "### 从Numpy到Tensor"
   ]
  },
  {
   "cell_type": "code",
   "execution_count": 55,
   "id": "007a3148-bbaa-4de1-bce2-efd157f2eaf0",
   "metadata": {},
   "outputs": [
    {
     "data": {
      "text/plain": [
       "tensor([[1., 1., 1., 1.],\n",
       "        [1., 1., 1., 1.],\n",
       "        [1., 1., 1., 1.]])"
      ]
     },
     "execution_count": 55,
     "metadata": {},
     "output_type": "execute_result"
    }
   ],
   "source": [
    "points = torch.from_numpy(points_np)\n",
    "points"
   ]
  },
  {
   "cell_type": "markdown",
   "id": "2900ce17-628d-442a-9063-25d1580d759d",
   "metadata": {},
   "source": [
    "## 张量的保存及读取"
   ]
  },
  {
   "cell_type": "markdown",
   "id": "7b16f3fd-07d1-4957-9387-6ea821ef9cd9",
   "metadata": {},
   "source": [
    "通过以下方法可以将`points`保存到`ourpoints.t`文件中：\n",
    "```python\n",
    "torch.save(points,'../data/oourpoints.t')\n",
    "\n",
    "with open('../data/ourpoints.t','wb') as f:\n",
    "    torch.save(points,f)\n",
    "```\n",
    "同样，对张量的加载也可以实现\n",
    "```python\n",
    "points = torch.load('../data/ourpoints.t')\n",
    "\n",
    "with open('../data/ourpoints.t','rb') as f:\n",
    "    points = torch.load(f)\n",
    "```"
   ]
  },
  {
   "cell_type": "markdown",
   "id": "c6fb9b10-aad6-43fa-a12e-0aba977832b6",
   "metadata": {},
   "source": [
    "## 练习题"
   ]
  },
  {
   "cell_type": "code",
   "execution_count": 61,
   "id": "04ffe19c-ec31-4d92-9ee0-1695c126fae2",
   "metadata": {},
   "outputs": [
    {
     "data": {
      "text/plain": [
       "(torch.Size([9]), 0, (1,))"
      ]
     },
     "execution_count": 61,
     "metadata": {},
     "output_type": "execute_result"
    }
   ],
   "source": [
    "a = torch.tensor(list(range(9)))\n",
    "a.shape,a.storage_offset(),a.stride()"
   ]
  },
  {
   "cell_type": "code",
   "execution_count": 69,
   "id": "658e1c26-5483-4e77-bfea-979188fb8859",
   "metadata": {},
   "outputs": [
    {
     "data": {
      "text/plain": [
       "(tensor([[0, 1, 2],\n",
       "         [3, 4, 5],\n",
       "         [6, 7, 8]]),\n",
       " True,\n",
       " (3, 1))"
      ]
     },
     "execution_count": 69,
     "metadata": {},
     "output_type": "execute_result"
    }
   ],
   "source": [
    "b = a.view(3,3) # 将a通过更改步长变为目标格式，并返回新张量\n",
    "b,id(a.storage()) == id(b.storage()),b.stride()"
   ]
  },
  {
   "cell_type": "code",
   "execution_count": null,
   "id": "2355788e-da87-46ea-a3bd-bc5a14562fea",
   "metadata": {},
   "outputs": [],
   "source": []
  }
 ],
 "metadata": {
  "kernelspec": {
   "display_name": "Python 3 (ipykernel)",
   "language": "python",
   "name": "python3"
  },
  "language_info": {
   "codemirror_mode": {
    "name": "ipython",
    "version": 3
   },
   "file_extension": ".py",
   "mimetype": "text/x-python",
   "name": "python",
   "nbconvert_exporter": "python",
   "pygments_lexer": "ipython3",
   "version": "3.11.8"
  }
 },
 "nbformat": 4,
 "nbformat_minor": 5
}
